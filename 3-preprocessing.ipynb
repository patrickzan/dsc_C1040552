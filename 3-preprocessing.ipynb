{
 "cells": [
  {
   "cell_type": "markdown",
   "id": "87701b72",
   "metadata": {},
   "source": [
    "# Question 4: Model\n",
    "\n",
    "Fraud is a problem for any bank. Fraud can take many forms, whether it is someone stealing a single credit card, to large batches of stolen credit card numbers being used on the web, or even a mass compromise of credit card numbers stolen from a merchant via tools like credit card skimming devices.\n",
    "\n",
    "Each of the transactions in the dataset has a field called isFraud. Please build a predictive model to determine whether a given transaction will be fraudulent or not. Use as much of the data as you like (or all of it).\n",
    "\n",
    "Provide an estimate of performance using an appropriate sample, and show your work.\n",
    "\n",
    "Please explain your methodology (modeling algorithm/method used and why, what features/data you found useful, what questions you have, and what you would do next with more time)"
   ]
  },
  {
   "cell_type": "code",
   "execution_count": 1,
   "id": "662a6c30",
   "metadata": {},
   "outputs": [],
   "source": [
    "import os, pickle\n",
    "import pandas as pd\n",
    "from sklearn.impute import SimpleImputer\n",
    "from sklearn.model_selection import train_test_split\n",
    "from sklearn.preprocessing import OneHotEncoder, LabelEncoder, MinMaxScaler, OrdinalEncoder, PowerTransformer\n",
    "from sklearn.pipeline import Pipeline\n",
    "from sklearn.compose import ColumnTransformer\n",
    "from imblearn.under_sampling import RandomUnderSampler"
   ]
  },
  {
   "cell_type": "markdown",
   "id": "3553566f",
   "metadata": {},
   "source": [
    "## Data selection and Preprocessing\n",
    "\n",
    "### 1. New features\n",
    "I added two more features of `accountAge` and `falseCVVDigits`. \n",
    "1. `accountAge`: days between `accountOpenDate` and `transactionDateTime`. \n",
    "2. `falseCVVDigits`: mismatched number of digits between `enteredCVV` and `cardCVV`.\n"
   ]
  },
  {
   "cell_type": "code",
   "execution_count": 5,
   "id": "3a414613",
   "metadata": {},
   "outputs": [
    {
     "name": "stdout",
     "output_type": "stream",
     "text": [
      "<class 'pandas.core.frame.DataFrame'>\n",
      "RangeIndex: 786363 entries, 0 to 786362\n",
      "Data columns (total 30 columns):\n",
      " #   Column                    Non-Null Count   Dtype  \n",
      "---  ------                    --------------   -----  \n",
      " 0   accountNumber             786363 non-null  int64  \n",
      " 1   customerId                786363 non-null  int64  \n",
      " 2   creditLimit               786363 non-null  int64  \n",
      " 3   availableMoney            786363 non-null  float64\n",
      " 4   transactionDateTime       786363 non-null  object \n",
      " 5   transactionAmount         786363 non-null  float64\n",
      " 6   merchantName              786363 non-null  object \n",
      " 7   acqCountry                786363 non-null  object \n",
      " 8   merchantCountryCode       786363 non-null  object \n",
      " 9   posEntryMode              786363 non-null  int64  \n",
      " 10  posConditionCode          786363 non-null  int64  \n",
      " 11  merchantCategoryCode      786363 non-null  object \n",
      " 12  currentExpDate            786363 non-null  object \n",
      " 13  accountOpenDate           786363 non-null  object \n",
      " 14  dateOfLastAddressChange   786363 non-null  object \n",
      " 15  cardCVV                   786363 non-null  int64  \n",
      " 16  enteredCVV                786363 non-null  int64  \n",
      " 17  cardLast4Digits           786363 non-null  int64  \n",
      " 18  transactionType           786363 non-null  object \n",
      " 19  currentBalance            786363 non-null  float64\n",
      " 20  cardPresent               786363 non-null  bool   \n",
      " 21  expirationDateKeyInMatch  786363 non-null  bool   \n",
      " 22  isFraud                   786363 non-null  bool   \n",
      " 23  logTransactionAmount      786363 non-null  float64\n",
      " 24  correctCVV                786363 non-null  bool   \n",
      " 25  datetime                  786363 non-null  object \n",
      " 26  timestamp                 786363 non-null  int64  \n",
      " 27  isMultiSwipe              786363 non-null  bool   \n",
      " 28  accountAge                786363 non-null  int64  \n",
      " 29  falseCVVDigits            786363 non-null  int64  \n",
      "dtypes: bool(5), float64(4), int64(11), object(10)\n",
      "memory usage: 153.7+ MB\n"
     ]
    }
   ],
   "source": [
    "df = pd.read_csv('transactions_eda.csv')\n",
    "df.info()"
   ]
  },
  {
   "cell_type": "markdown",
   "id": "2cc752e3",
   "metadata": {},
   "source": [
    "### 2. Balance the dataset \n",
    "1. Drop columns that are not useful for prediction \n",
    "2. Random Under Sampling for balancing classes\n",
    "    \n",
    "    Because the dataset contains imbalanced classes, I used `Random Under Sampling` to downgrade the size of non-fraud class to the same size of fraud class. As a result, I have in total `24834 x 15` for data size. "
   ]
  },
  {
   "cell_type": "code",
   "execution_count": 6,
   "id": "6c7c2f37",
   "metadata": {},
   "outputs": [
    {
     "name": "stdout",
     "output_type": "stream",
     "text": [
      "Before Random Under Sampling: (786363, 15)\n",
      "After Random Under Sampling: (24834, 15)\n"
     ]
    }
   ],
   "source": [
    "account = df['accountNumber']\n",
    "\n",
    "drop_cols = ['customerId', 'transactionDateTime', 'merchantName', \n",
    "             'accountOpenDate', 'transactionDateTime',\n",
    "             'currentExpDate', 'accountOpenDate',\n",
    "             'dateOfLastAddressChange',\n",
    "             'datetime', 'timestamp', 'logTransactionAmount',\n",
    "             'cardCVV', 'enteredCVV', 'cardLast4Digits', \n",
    "             'correctCVV', 'accountNumber']\n",
    "\n",
    "df.drop(drop_cols, inplace=True, axis=1)\n",
    "\n",
    "\n",
    "for col in ['cardPresent', 'expirationDateKeyInMatch', 'isFraud', 'isMultiSwipe']:\n",
    "    df[col] = df[col].replace({False: 0, True: 1})\n",
    "\n",
    "# rus = RandomUnderSampler(sampling_strategy=0.5)\n",
    "rus = RandomUnderSampler()\n",
    "\n",
    "y = df['isFraud']\n",
    "df.drop('isFraud', inplace=True, axis=1)\n",
    "new_x, new_y = rus.fit_resample(df, y)\n",
    "print(f'Before Random Under Sampling: {df.shape}')\n",
    "print(f'After Random Under Sampling: {new_x.shape}')"
   ]
  },
  {
   "cell_type": "markdown",
   "id": "85c51ef2",
   "metadata": {},
   "source": [
    "### 3. Train-test split and data normalization\n",
    "\n",
    "1. Divide the dataset into train and test sets, with 70% for training and 30% for testing. \n",
    "2. Divide columns into categorical set, ordinal set and numerical set, and normalize the each set using a different pipeline. \n",
    "\n",
    "    2.1 Categorical set: columns that have categorical values. First convert the categorical data into numerical labels, and then use MinMaxScaler to normalize samples into range [0,1]. \n",
    "\n",
    "    2.2 Ordinal set: columns that have ordered numerical values, for example, `falseCVVDigits`.\n",
    "    \n",
    "    2.3 Numerical set: columns that have numerical features. "
   ]
  },
  {
   "cell_type": "code",
   "execution_count": 7,
   "id": "067eb3a3",
   "metadata": {},
   "outputs": [
    {
     "name": "stdout",
     "output_type": "stream",
     "text": [
      "<class 'pandas.core.frame.DataFrame'>\n",
      "RangeIndex: 786363 entries, 0 to 786362\n",
      "Data columns (total 15 columns):\n",
      " #   Column                    Non-Null Count   Dtype  \n",
      "---  ------                    --------------   -----  \n",
      " 0   creditLimit               786363 non-null  int64  \n",
      " 1   availableMoney            786363 non-null  float64\n",
      " 2   transactionAmount         786363 non-null  float64\n",
      " 3   acqCountry                786363 non-null  object \n",
      " 4   merchantCountryCode       786363 non-null  object \n",
      " 5   posEntryMode              786363 non-null  int64  \n",
      " 6   posConditionCode          786363 non-null  int64  \n",
      " 7   merchantCategoryCode      786363 non-null  object \n",
      " 8   transactionType           786363 non-null  object \n",
      " 9   currentBalance            786363 non-null  float64\n",
      " 10  cardPresent               786363 non-null  int64  \n",
      " 11  expirationDateKeyInMatch  786363 non-null  int64  \n",
      " 12  isMultiSwipe              786363 non-null  int64  \n",
      " 13  accountAge                786363 non-null  int64  \n",
      " 14  falseCVVDigits            786363 non-null  int64  \n",
      "dtypes: float64(3), int64(8), object(4)\n",
      "memory usage: 90.0+ MB\n",
      "(17383, 15)\n"
     ]
    }
   ],
   "source": [
    "x_train, x_test, y_train, y_test = train_test_split(new_x, new_y, test_size=0.3)\n",
    "\n",
    "df.info()\n",
    "\n",
    "cat_cols = ['merchantCountryCode',\n",
    "            'merchantCategoryCode',\n",
    "            'posConditionCode',\n",
    "            'posEntryMode',\n",
    "            'transactionType',\n",
    "            'acqCountry',\n",
    "            'cardPresent',\n",
    "            'expirationDateKeyInMatch',\n",
    "            'isMultiSwipe']\n",
    "ord_cols = ['falseCVVDigits']\n",
    "num_cols = ['creditLimit', \n",
    "            'availableMoney', \n",
    "            'transactionAmount',\n",
    "            'currentBalance',\n",
    "            'accountAge']\n",
    "pipeline = ColumnTransformer([\n",
    "    ('cat_pipe', \n",
    "    Pipeline([('cat_imputer', SimpleImputer(strategy='most_frequent')),\n",
    "              ('label_enc', OrdinalEncoder()),\n",
    "              ('scaler', MinMaxScaler())\n",
    "              ]),\n",
    "    cat_cols,\n",
    "    ),\n",
    "    ('ord_pipe', \n",
    "    Pipeline([('ord_enc', OrdinalEncoder()),\n",
    "              ('scaler', MinMaxScaler())]),\n",
    "    ord_cols,\n",
    "    ),\n",
    "    ('num_pipe',\n",
    "    Pipeline([('power_trans', PowerTransformer(method='yeo-johnson', standardize=False)),\n",
    "              ('scaler', MinMaxScaler())]),\n",
    "    num_cols)\n",
    "], remainder='passthrough')\n",
    "\n",
    "\n",
    "x_train = pipeline.fit_transform(x_train)\n",
    "x_test = pipeline.transform(x_test)\n",
    "\n",
    "print(x_train.shape)\n",
    "\n",
    "data = {'x_train': x_train, 'x_test': x_test, 'y_train': y_train, 'y_test': y_test}\n",
    "\n",
    "with open('results/preprocessed_data', 'wb') as file:\n",
    "    pickle.dump(data, file, protocol=4)\n"
   ]
  },
  {
   "cell_type": "code",
   "execution_count": null,
   "id": "4de1df22",
   "metadata": {},
   "outputs": [],
   "source": []
  }
 ],
 "metadata": {
  "kernelspec": {
   "display_name": "Python 3",
   "language": "python",
   "name": "python3"
  },
  "language_info": {
   "codemirror_mode": {
    "name": "ipython",
    "version": 3
   },
   "file_extension": ".py",
   "mimetype": "text/x-python",
   "name": "python",
   "nbconvert_exporter": "python",
   "pygments_lexer": "ipython3",
   "version": "3.8.6"
  }
 },
 "nbformat": 4,
 "nbformat_minor": 5
}
