{
 "cells": [
  {
   "cell_type": "markdown",
   "id": "db58c732",
   "metadata": {},
   "source": [
    "# Question 4: Model (Con'd)\n",
    "\n",
    "Fraud is a problem for any bank. Fraud can take many forms, whether it is someone stealing a single credit card, to large batches of stolen credit card numbers being used on the web, or even a mass compromise of credit card numbers stolen from a merchant via tools like credit card skimming devices.\n",
    "\n",
    "Each of the transactions in the dataset has a field called isFraud. Please build a predictive model to determine whether a given transaction will be fraudulent or not. Use as much of the data as you like (or all of it).\n",
    "\n",
    "Provide an estimate of performance using an appropriate sample, and show your work.\n",
    "\n",
    "Please explain your methodology (modeling algorithm/method used and why, what features/data you found useful, what questions you have, and what you would do next with more time)"
   ]
  },
  {
   "cell_type": "markdown",
   "id": "eb331026",
   "metadata": {},
   "source": [
    "# Train models\n",
    "\n",
    "This report builds models of `decision tree`, `logistic regression`, `random forest`, `svm` and `xgboost` (see `.py` scripts in the folder `models`). \n",
    "\n",
    "Since training models takes 1-2 days, I performed this task on my terminal. The trained models were saved in the folder of `results`, named `dec_tree`, `log_reg`, `rf`, `svc`, `xgboost`. "
   ]
  },
  {
   "cell_type": "code",
   "execution_count": null,
   "id": "d0af8938",
   "metadata": {},
   "outputs": [],
   "source": [
    "import pickle\n",
    "from models import decision_tree, logistic_reg, random_forest, svm, xgboost\n",
    "\n",
    "def train():\n",
    "\n",
    "    with open('results/preprocessed_data', 'rb') as file:\n",
    "        data = pickle.load(file)\n",
    "\n",
    "    results = {\n",
    "        'dec_tree': decision_tree.run(data),\n",
    "        'log_reg': logistic_reg.run(data),\n",
    "        'rf': random_forest.run(data),\n",
    "        'svm': svm.run(data),\n",
    "        'xgboost': xgboost.run_optimal(data)\n",
    "    }\n",
    "\n",
    "    with open('results/result_dict', 'wb') as file:\n",
    "        pickle.dump(results, file, protocol=4)\n",
    "\n",
    "    print(results)\n",
    "\n",
    "if __name__ == '__main__':\n",
    "    train()\n"
   ]
  }
 ],
 "metadata": {
  "kernelspec": {
   "display_name": "Python 3",
   "language": "python",
   "name": "python3"
  },
  "language_info": {
   "codemirror_mode": {
    "name": "ipython",
    "version": 3
   },
   "file_extension": ".py",
   "mimetype": "text/x-python",
   "name": "python",
   "nbconvert_exporter": "python",
   "pygments_lexer": "ipython3",
   "version": "3.8.6"
  }
 },
 "nbformat": 4,
 "nbformat_minor": 5
}
