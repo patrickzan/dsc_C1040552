{
 "cells": [
  {
   "cell_type": "markdown",
   "id": "f31c6bff",
   "metadata": {},
   "source": [
    "Question 1 answered in `1-dataPreparation.ipynb`\n",
    "\n",
    "Question 2 and 3 answered in `2-exploratoryDataAnalysis.ipynb`\n",
    "\n",
    "Question 4 answered in `3-preprocessing.ipynb`, `4-train.ipynb`, `5-results.ipynb`\n",
    "\n",
    "Machine learning models are saved in `models` folder.\n",
    "\n",
    "Results are saved in `results` folder.\n",
    "\n",
    "The AWS-server API was in `6-serverBackend.ipynb` and `AWS_"
   ]
  },
  {
   "cell_type": "code",
   "execution_count": null,
   "id": "8e9c9b3f",
   "metadata": {},
   "outputs": [],
   "source": []
  }
 ],
 "metadata": {
  "kernelspec": {
   "display_name": "Python 3",
   "language": "python",
   "name": "python3"
  },
  "language_info": {
   "codemirror_mode": {
    "name": "ipython",
    "version": 3
   },
   "file_extension": ".py",
   "mimetype": "text/x-python",
   "name": "python",
   "nbconvert_exporter": "python",
   "pygments_lexer": "ipython3",
   "version": "3.8.6"
  }
 },
 "nbformat": 4,
 "nbformat_minor": 5
}
