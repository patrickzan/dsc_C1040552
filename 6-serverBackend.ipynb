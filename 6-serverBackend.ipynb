{
 "cells": [
  {
   "cell_type": "markdown",
   "id": "91e50f93",
   "metadata": {},
   "source": [
    "# Data transfer to AWS S3"
   ]
  },
  {
   "cell_type": "markdown",
   "id": "59ee334f",
   "metadata": {},
   "source": [
    "Besides the models, I also built up a AWS S3 data transfer API to save real-time transaction from mobile App or other bank terminals (see in the folder `AWS_server`. To use it, you will need a AWS S3 bucket and input the information of `AWS access key` and `AWS secret key`. \n",
    "\n",
    "Before running this script, you need to first install `boto` and `plyer` by `pip install boto` and `pip install plyer`. For more information, you can refer to https://pypi.org/project/boto/ and https://pypi.org/project/plyer/."
   ]
  },
  {
   "cell_type": "code",
   "execution_count": 4,
   "id": "ac8974ca",
   "metadata": {},
   "outputs": [],
   "source": [
    "from AWS_server.server_api import DataHandler"
   ]
  },
  {
   "cell_type": "code",
   "execution_count": null,
   "id": "104bc285",
   "metadata": {},
   "outputs": [],
   "source": [
    "server_api = \"<your-user-login-api>\"\n",
    "data_dir = \"<local-folder-for-realtime-transaction-log>\"\n",
    "aws_access_key = \"<AWS-access-key>\"\n",
    "aws_secret_key = \"<AWS-secret-key>\"\n",
    "\n",
    "class ServerAPI(self):\n",
    "    def __init__(self, server_api, data_dir, aws_access_key, aws_secret_key, \n",
    "                 username, userpwd):\n",
    "        self.username = username\n",
    "        self.userpwd = userpwd\n",
    "        self.data_handler = DataHandler(server_api, None, data_dir=data_dir, \n",
    "                                   aws_access_key=aws_access_key,\n",
    "                                   aws_secret_key)\n",
    "    def send_data_to_cloud(self, curr_dir):\n",
    "        if self.data_handler.auth is None:\n",
    "            self.data_handler.auth = {\n",
    "                \"email\": self.username,\n",
    "                \"password\": self.userpwd,\n",
    "            }\n",
    "        self.data_handler.add_dir(curr_dir)\n",
    "        print(\"[UI data handler: transactions sent]\", self.data_handler.transactions_sent)\n",
    "        print(\"[UI data handler: transactions to send]\", self.data_handler.transactions_to_send)\n",
    "        self.data_handler.send_dir_to_server(curr_dir)\n",
    "        "
   ]
  },
  {
   "cell_type": "markdown",
   "id": "582e83e7",
   "metadata": {},
   "source": [
    "For every transaction made and saved, if you call `ServerAPI.send_data_to_cloud()` and give it proper server information, it will directly send the transactions to cloud in an organized zip file. On cloud side, it will create a folder for each user and each device. "
   ]
  },
  {
   "cell_type": "code",
   "execution_count": null,
   "id": "9555596b",
   "metadata": {},
   "outputs": [],
   "source": []
  }
 ],
 "metadata": {
  "kernelspec": {
   "display_name": "Python 3",
   "language": "python",
   "name": "python3"
  },
  "language_info": {
   "codemirror_mode": {
    "name": "ipython",
    "version": 3
   },
   "file_extension": ".py",
   "mimetype": "text/x-python",
   "name": "python",
   "nbconvert_exporter": "python",
   "pygments_lexer": "ipython3",
   "version": "3.8.6"
  }
 },
 "nbformat": 4,
 "nbformat_minor": 5
}
